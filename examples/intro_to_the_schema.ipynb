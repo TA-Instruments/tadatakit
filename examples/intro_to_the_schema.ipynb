{
 "cells": [
  {
   "cell_type": "markdown",
   "id": "dff8f529-933d-45d3-b449-5910a46ea02a",
   "metadata": {},
   "source": [
    "# TA Instruments Data Schema Overview\n",
    "\n",
    "> [Return to examples.md](examples.md)\n",
    "\n",
    "Welcome to the interactive exploration of the data schema used in the `tadatakit` library. This notebook provides a detailed look at the structure and components of the JSON schema that drives our dynamic class generation. Understanding this schema will help you better utilize and extend the functionalities of `tadatakit`.\n",
    "\n",
    "## How to read the schema?\n",
    "The schema is available to download [here](), install from PyPI with the command `pip install <insert name>`, or through `tadatakit` as follows."
   ]
  },
  {
   "cell_type": "code",
   "execution_count": 1,
   "id": "efe86c5e-8313-4be2-9fc3-9325e851648b",
   "metadata": {},
   "outputs": [],
   "source": [
    "from tadatakit.class_generator.schema_loader import load_schema\n",
    "\n",
    "schema = load_schema()"
   ]
  },
  {
   "cell_type": "markdown",
   "id": "a540a8c0-cddf-4ccc-9d3f-94da470a375d",
   "metadata": {},
   "source": [
    "## Structure of the schema\n",
    "\n",
    "The schema is defined as a [JSON Schema](https://json-schema.org/), and each json file exported by TA Instruments TRIOS :tm: JSON Export corresponds with one `Experiment` instance. The definitions within the schema are shown below, and can be accessed at `schema[\"components\"][\"schemas\"]`."
   ]
  },
  {
   "cell_type": "code",
   "execution_count": 2,
   "id": "96b20563-faa4-4b12-ac60-8de107869d68",
   "metadata": {},
   "outputs": [
    {
     "ename": "KeyError",
     "evalue": "'components'",
     "output_type": "error",
     "traceback": [
      "\u001b[0;31m---------------------------------------------------------------------------\u001b[0m",
      "\u001b[0;31mKeyError\u001b[0m                                  Traceback (most recent call last)",
      "Cell \u001b[0;32mIn[2], line 8\u001b[0m\n\u001b[1;32m      3\u001b[0m \u001b[38;5;28;01mimport\u001b[39;00m \u001b[38;5;21;01mjson\u001b[39;00m\n\u001b[1;32m      5\u001b[0m \u001b[38;5;66;03m# Display the schema using Markdown formatting within a code cell for syntax highlighting\u001b[39;00m\n\u001b[1;32m      6\u001b[0m display(Markdown(\u001b[38;5;124mf\u001b[39m\u001b[38;5;124m\"\"\"\u001b[39m\n\u001b[1;32m      7\u001b[0m \u001b[38;5;124m```json\u001b[39m\n\u001b[0;32m----> 8\u001b[0m \u001b[38;5;132;01m{\u001b[39;00mjson\u001b[38;5;241m.\u001b[39mdumps({\u001b[38;5;124m\"\u001b[39m\u001b[38;5;124mExperiment\u001b[39m\u001b[38;5;124m\"\u001b[39m:\u001b[38;5;250m \u001b[39mschema[\u001b[38;5;124m'\u001b[39m\u001b[38;5;124mcomponents\u001b[39m\u001b[38;5;124m'\u001b[39m][\u001b[38;5;124m'\u001b[39m\u001b[38;5;124mschemas\u001b[39m\u001b[38;5;124m'\u001b[39m][\u001b[38;5;124m\"\u001b[39m\u001b[38;5;124mExperiment\u001b[39m\u001b[38;5;124m\"\u001b[39m]},\u001b[38;5;250m \u001b[39mindent\u001b[38;5;241m=\u001b[39m\u001b[38;5;241m2\u001b[39m)\u001b[38;5;132;01m}\u001b[39;00m\n\u001b[1;32m      9\u001b[0m \u001b[38;5;124m```\u001b[39m\n\u001b[1;32m     10\u001b[0m \u001b[38;5;124m\"\"\"\u001b[39m))\n",
      "\u001b[0;31mKeyError\u001b[0m: 'components'"
     ]
    }
   ],
   "source": [
    "# imports for better display\n",
    "from IPython.display import display, Markdown\n",
    "import json\n",
    "\n",
    "# Display the schema using Markdown formatting within a code cell for syntax highlighting\n",
    "display(Markdown(f\"\"\"\n",
    "```json\n",
    "{json.dumps({\"Experiment\": schema['components']['schemas'][\"Experiment\"]}, indent=2)}\n",
    "```\n",
    "\"\"\"))"
   ]
  }
 ],
 "metadata": {
  "kernelspec": {
   "display_name": "Python 3 (ipykernel)",
   "language": "python",
   "name": "python3"
  },
  "language_info": {
   "codemirror_mode": {
    "name": "ipython",
    "version": 3
   },
   "file_extension": ".py",
   "mimetype": "text/x-python",
   "name": "python",
   "nbconvert_exporter": "python",
   "pygments_lexer": "ipython3",
   "version": "3.9.18"
  }
 },
 "nbformat": 4,
 "nbformat_minor": 5
}
