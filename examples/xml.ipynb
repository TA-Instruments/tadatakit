{
 "cells": [
  {
   "cell_type": "markdown",
   "id": "e9978811-9931-4aed-b7aa-85d662a4b2a2",
   "metadata": {},
   "source": [
    "# Format Conversion - XML Example\n",
    "\n",
    "> [Return to Examples List](README.md)\n",
    "\n",
    "This example shows how to convert a TRIOS JSON file to XML, which is useful for applications that require XML format for data interchange or archival.\n",
    "\n",
    "## Load Experiment Data\n",
    "Here we load a JSON file representing experimental data. This step is crucial as it initializes the data structure that we will convert into XML."
   ]
  },
  {
   "cell_type": "code",
   "execution_count": 1,
   "id": "d2bae537-bec9-47fb-b034-5ada650abf4a",
   "metadata": {},
   "outputs": [
    {
     "data": {
      "text/html": [
       "File from <a href=\"https://software.tainstruments.com/example_files/DSC - Epoxy - 10Cmin.json\">url</a> already exists: files/DSC kinetics/DSC - Epoxy - 10Cmin.json (40.62 MB) [1/1]"
      ],
      "text/plain": [
       "<IPython.core.display.HTML object>"
      ]
     },
     "metadata": {},
     "output_type": "display_data"
    }
   ],
   "source": [
    "# This is just to ensure you have the data file, downloaded from TA's website\n",
    "from file_downloader import download_files\n",
    "\n",
    "filename = \"DSC - Epoxy - 10Cmin.json\"\n",
    "file_path = download_files(filename, \"files/DSC kinetics/\")[0]"
   ]
  },
  {
   "cell_type": "code",
   "execution_count": 2,
   "id": "f2868540-4c9a-424b-b7b1-27747ee71f00",
   "metadata": {},
   "outputs": [],
   "source": [
    "from tadatakit.classes import Experiment\n",
    "experiment = Experiment.from_json(file_path)"
   ]
  },
  {
   "cell_type": "markdown",
   "id": "7f5ab064-b47d-4064-a7e4-649455b51ec1",
   "metadata": {},
   "source": [
    "## Conversion to XML\n",
    "\n",
    "The following function `to_xml` converts the loaded experiment data to an XML format. The function includes utilities to sanitize XML tags and properly format nested data structures, ensuring valid and well-formed XML output. This function is then added to the Experiment class with `setattr`."
   ]
  },
  {
   "cell_type": "code",
   "execution_count": 3,
   "id": "8a0bf879-6ec5-4d2d-8d27-ee79d9e36d96",
   "metadata": {},
   "outputs": [],
   "source": [
    "import xml.etree.ElementTree as ET\n",
    "import os\n",
    "import re\n",
    "from typing import Union, TextIO\n",
    "\n",
    "def to_xml(self, path_or_file: Union[str, os.PathLike, TextIO]) -> None:\n",
    "    \"\"\"\n",
    "    Serializes the instance to an XML file or stream.\n",
    "    \"\"\"\n",
    "    def sanitize_key(key: str) -> str:\n",
    "        \"\"\"\n",
    "        Sanitizes the key to make it a valid XML tag name.\n",
    "        Replaces all characters except ASCII alphanumerics and underscores with underscores,\n",
    "        and ensures it's a valid XML name.\n",
    "        \"\"\"\n",
    "        # Replace all non-ASCII alphanumerics and non-underscore characters with underscores\n",
    "        key = re.sub(r'[^a-zA-Z0-9_]', '_', key)\n",
    "    \n",
    "        # Ensure it doesn't start with a number or punctuation (except underscore)\n",
    "        if re.match(r'^[0-9]', key):\n",
    "            key = '_' + key\n",
    "        \n",
    "        # Prevent tags from starting with 'xml' in any case\n",
    "        if key.lower().startswith('xml'):\n",
    "            key = '_' + key\n",
    "    \n",
    "        return key\n",
    "    \n",
    "    def dict_to_xml(data, root_tag='Data'):\n",
    "        def build_element(key, value):\n",
    "            key = sanitize_key(key)\n",
    "            element = ET.Element(key)\n",
    "            if isinstance(value, dict):\n",
    "                for sub_key, sub_value in value.items():\n",
    "                    element.append(build_element(sub_key, sub_value))\n",
    "            elif isinstance(value, list):\n",
    "                for item in value:\n",
    "                    item_tag = sanitize_key(key.rstrip('s'))  # Attempt to create singular form of the key\n",
    "                    if isinstance(item, dict):\n",
    "                        element.append(build_element(item_tag, item))\n",
    "                    else:\n",
    "                        sub_element = ET.Element(item_tag)\n",
    "                        sub_element.text = str(item)\n",
    "                        sub_element.set('type', type(item).__name__)\n",
    "                        element.append(sub_element)\n",
    "            else:\n",
    "                element.text = str(value)\n",
    "                element.set('type', type(value).__name__)\n",
    "            return element\n",
    "\n",
    "        root = ET.Element(sanitize_key(root_tag))\n",
    "        for key, value in data.items():\n",
    "            root.append(build_element(key, value))\n",
    "        xml_string = ET.tostring(root, encoding='unicode', method='xml')\n",
    "        return f'<?xml version=\"1.0\" encoding=\"UTF-8\"?>{xml_string}'\n",
    "\n",
    "    xml_output = dict_to_xml(experiment.to_dict())\n",
    "\n",
    "    try:\n",
    "        if isinstance(path_or_file, (str, os.PathLike)):\n",
    "            with open(path_or_file, \"w\", encoding='utf-8') as file:\n",
    "                file.write(xml_output)\n",
    "        else:\n",
    "            path_or_file.write(xml_output)\n",
    "    except OSError as e:\n",
    "        raise IOError(f\"An error occurred while writing the file: {e}\")\n",
    "\n",
    "\n",
    "\n",
    "setattr(Experiment, \"to_xml\", to_xml)"
   ]
  },
  {
   "cell_type": "markdown",
   "id": "c45e47ae-14fa-47ee-ada6-1a71282255cd",
   "metadata": {},
   "source": [
    "## Execute Conversion\n",
    "\n",
    "With the `to_xml` method now added to our `Experiment` class, we execute the method to convert our experiment data to an XML file named '10Cmin.xml'. This XML file can be used in other applications that require XML formatted data."
   ]
  },
  {
   "cell_type": "code",
   "execution_count": 4,
   "id": "cd39efb6-6f04-4304-806a-eab1956f875d",
   "metadata": {},
   "outputs": [],
   "source": [
    "experiment.to_xml(\"10Cmin.xml\")"
   ]
  },
  {
   "cell_type": "markdown",
   "id": "443ba1a4-c3ea-4849-a76c-9d9a889f19c8",
   "metadata": {},
   "source": [
    "## File Contents\n",
    "\n",
    "Rather than include the file here, you can get a preview with the first 10000 characters below."
   ]
  },
  {
   "cell_type": "code",
   "execution_count": 5,
   "id": "6e8cf5c0-83e8-468b-8acb-6305112233ed",
   "metadata": {},
   "outputs": [
    {
     "name": "stdout",
     "output_type": "stream",
     "text": [
      "<?xml version=\"1.0\" encoding=\"UTF-8\"?><Data><Schema><Url type=\"str\">https://software.tainstruments.com/schemas/TRIOSJSONExportSchema</Url></Schema><Operators><Operator><Name type=\"str\">TA Instruments Expert</Name></Operator></Operators><Sample><Name type=\"str\">DSC - Epoxy - 10Cmin</Name><Notes type=\"NoneType\">None</Notes><PanNumber type=\"int\">20</PanNumber><PanMass><Value type=\"float\">53.180999755859375</Value><Unit><Name type=\"str\">mg</Name></Unit></PanMass><Mass><Value type=\"float\">5.508999824523926</Value><Unit><Name type=\"str\">mg</Name></Unit></Mass><PanType type=\"str\">Tzero Aluminum Pin Hole Hermetic</PanType><Shape type=\"NoneType\">None</Shape><Density type=\"NoneType\">None</Density><PoissonsRatio type=\"NoneType\">None</PoissonsRatio></Sample><Procedure><Configuration><InstrumentConfigurations><InstrumentConfiguration><Type type=\"str\">DSC2500</Type><Name type=\"str\">DSC2A-00717</Name><SerialNumber type=\"str\">DSC2A-00717</SerialNumber><Location type=\"str\">Training Lab</Location><ReferencePanNumber type=\"int\">54</ReferencePanNumber><ReferencePanMass><Value type=\"float\">53.59000015258789</Value><Unit><Name type=\"str\">mg</Name></Unit></ReferencePanMass><ReferenceSampleMass><Value type=\"float\">0.0</Value><Unit><Name type=\"str\">mg</Name></Unit></ReferenceSampleMass><ReferencePanType type=\"NoneType\">None</ReferencePanType><UseStandbyTemperature type=\"bool\">True</UseStandbyTemperature><MinimumLoadTemperature type=\"NoneType\">None</MinimumLoadTemperature><MaximumLoadTemperature type=\"NoneType\">None</MaximumLoadTemperature><EndOfTestUseStandbyTemperature type=\"bool\">True</EndOfTestUseStandbyTemperature><MinimumUnloadTemperature type=\"NoneType\">None</MinimumUnloadTemperature><MaximumUnloadTemperature type=\"NoneType\">None</MaximumUnloadTemperature><DiscardPanInWasteBin type=\"bool\">False</DiscardPanInWasteBin><UseDefaultCalibrations type=\"bool\">True</UseDefaultCalibrations><StartExperimentAfterWeightStabilization type=\"NoneType\">None</StartExperimentAfterWeightStabilization><EnableAirCool type=\"NoneType\">None</EnableAirCool><AirCoolUntilTemperatureIsBelow type=\"NoneType\">None</AirCoolUntilTemperatureIsBelow><EndOfTestDelay type=\"NoneType\">None</EndOfTestDelay><AirCoolTime type=\"NoneType\">None</AirCoolTime><ShapeThickness type=\"NoneType\">None</ShapeThickness><ShapeLength type=\"NoneType\">None</ShapeLength><ShapeDiameter type=\"NoneType\">None</ShapeDiameter><ShapeWidth type=\"NoneType\">None</ShapeWidth><ShapeInnerDiameter type=\"NoneType\">None</ShapeInnerDiameter><ShapeArea type=\"NoneType\">None</ShapeArea><ShapeMoment type=\"NoneType\">None</ShapeMoment><ShapeOuterDiameter type=\"NoneType\">None</ShapeOuterDiameter><InstrumentInitialLength type=\"NoneType\">None</InstrumentInitialLength><UserInitialLength type=\"NoneType\">None</UserInitialLength><InstrumentCoefficientOfThermalExpansionConstant type=\"NoneType\">None</InstrumentCoefficientOfThermalExpansionConstant><UserCoefficientOfThermalExpansionConstant type=\"NoneType\">None</UserCoefficientOfThermalExpansionConstant><InstrumentGeometryFactor type=\"NoneType\">None</InstrumentGeometryFactor><UserGeometryFactor type=\"NoneType\">None</UserGeometryFactor><InstrumentStressFactor type=\"NoneType\">None</InstrumentStressFactor><UserStressFactor type=\"NoneType\">None</UserStressFactor><InstrumentStrainFactor type=\"NoneType\">None</InstrumentStrainFactor><UserStrainFactor type=\"NoneType\">None</UserStrainFactor><PreloadForce type=\"NoneType\">None</PreloadForce><TrayWeight type=\"NoneType\">None</TrayWeight><AutoZero type=\"NoneType\">None</AutoZero><ProbeUp type=\"NoneType\">None</ProbeUp><OpenFurnacePostTest type=\"NoneType\">None</OpenFurnacePostTest><ReturnToTemperatureRange type=\"NoneType\">None</ReturnToTemperatureRange><PostTestTemperatureWindowMinimum type=\"NoneType\">None</PostTestTemperatureWindowMinimum><PostTestTemperatureWindowMaximum type=\"NoneType\">None</PostTestTemperatureWindowMaximum><PostTestCoolerOff type=\"NoneType\">None</PostTestCoolerOff><Mode type=\"NoneType\">None</Mode><MethodName type=\"NoneType\">None</MethodName><EtcCameraAvailable type=\"NoneType\">None</EtcCameraAvailable><CellSerialNumber type=\"str\">DRC2-01325</CellSerialNumber><Gas1Type type=\"NoneType\">None</Gas1Type><Gas2Type type=\"str\">Air</Gas2Type><Gas3Type type=\"NoneType\">None</Gas3Type><Gas4Type type=\"NoneType\">None</Gas4Type><CompanyName type=\"str\">TA Instruments</CompanyName><DisplayType type=\"str\">TianmaV2andV3</DisplayType><SamplingRate><Value type=\"float\">0.1</Value><Unit><Name type=\"str\">s/pt</Name></Unit></SamplingRate><SelectedHeatFlow type=\"str\">T4P</SelectedHeatFlow><ExothermDirection type=\"str\">Up</ExothermDirection><PanResistanceFactorApplied type=\"NoneType\">None</PanResistanceFactorApplied><InterpanHeatExchangeFactorApplied type=\"NoneType\">None</InterpanHeatExchangeFactorApplied><LidType type=\"str\">High Temperature</LidType><CoolerType type=\"str\">RCS 90</CoolerType><LeaveCoolerOnBetweenRuns type=\"bool\">True</LeaveCoolerOnBetweenRuns><SelectedGas type=\"NoneType\">None</SelectedGas><FlowRate type=\"NoneType\">None</FlowRate><SecondaryPurgeWhenLidOpen type=\"bool\">True</SecondaryPurgeWhenLidOpen><LicensedHeatFlow type=\"str\">Heat Flow T4P</LicensedHeatFlow><ModulationLicensed type=\"bool\">True</ModulationLicensed><HighResolutionModulationLicensed type=\"NoneType\">None</HighResolutionModulationLicensed><AutoWeightRangeEnabled type=\"NoneType\">None</AutoWeightRangeEnabled><RangeType type=\"NoneType\">None</RangeType><MakeupPumpCounter type=\"NoneType\">None</MakeupPumpCounter><ProcedureWearCounter type=\"NoneType\">None</ProcedureWearCounter><MakeupPumpLifeCounter type=\"NoneType\">None</MakeupPumpLifeCounter><DryingPumpLifeCounter type=\"NoneType\">None</DryingPumpLifeCounter><TotalSampleFlow type=\"NoneType\">None</TotalSampleFlow><ChannelBGasPercentage type=\"NoneType\">None</ChannelBGasPercentage><ChannelASelectedGas type=\"NoneType\">None</ChannelASelectedGas><ChannelBSelectedGas type=\"NoneType\">None</ChannelBSelectedGas><SelectedGasChannel type=\"NoneType\">None</SelectedGasChannel><ThermocoupleType type=\"NoneType\">None</ThermocoupleType><SamplingMode type=\"NoneType\">None</SamplingMode><StandByTemperature type=\"NoneType\">None</StandByTemperature><StandByPressure type=\"NoneType\">None</StandByPressure><StandByFlow type=\"NoneType\">None</StandByFlow><BuoyancyReferenceTemperature type=\"NoneType\">None</BuoyancyReferenceTemperature><BuoyancyReferencePressure type=\"NoneType\">None</BuoyancyReferencePressure><BuoyancyReferenceFlow type=\"NoneType\">None</BuoyancyReferenceFlow><StandByGasLine2Flow type=\"NoneType\">None</StandByGasLine2Flow><StandByGasLine3Flow type=\"NoneType\">None</StandByGasLine3Flow><StandByGasLine4Flow type=\"NoneType\">None</StandByGasLine4Flow><BuoyancyReferenceGasLine2Flow type=\"NoneType\">None</BuoyancyReferenceGasLine2Flow><BuoyancyReferenceGasLine3Flow type=\"NoneType\">None</BuoyancyReferenceGasLine3Flow><BuoyancyReferenceGasLine4Flow type=\"NoneType\">None</BuoyancyReferenceGasLine4Flow><StopOnGasFlowError type=\"NoneType\">None</StopOnGasFlowError><FurnaceBias type=\"NoneType\">None</FurnaceBias><HeaterBias type=\"NoneType\">None</HeaterBias><SampleBias type=\"NoneType\">None</SampleBias><EmMode type=\"NoneType\">None</EmMode><Event1On type=\"NoneType\">None</Event1On><InitialLength type=\"NoneType\">None</InitialLength><ProbeType type=\"NoneType\">None</ProbeType><PoissonRatio type=\"NoneType\">None</PoissonRatio><FilmFiberOffset type=\"NoneType\">None</FilmFiberOffset><BearingFriction type=\"NoneType\">None</BearingFriction><BearingFrictionCorrection type=\"NoneType\">None</BearingFrictionCorrection><RotationalMappingLastDate type=\"NoneType\">None</RotationalMappingLastDate><RotationalMappingLastGeometry type=\"NoneType\">None</RotationalMappingLastGeometry><RotationalMappingNumberOfIterations type=\"NoneType\">None</RotationalMappingNumberOfIterations><BearingMappingType type=\"NoneType\">None</BearingMappingType><SmartSwapDisabled type=\"NoneType\">None</SmartSwapDisabled><BearingMode type=\"NoneType\">None</BearingMode><BearingOffset type=\"NoneType\">None</BearingOffset><GeometryBearingFrictionCalibrationDate type=\"NoneType\">None</GeometryBearingFrictionCalibrationDate><FirmwarePcbNumber type=\"NoneType\">None</FirmwarePcbNumber><AccessoryOptions type=\"NoneType\">None</AccessoryOptions><AxialForceControlOptions type=\"NoneType\">None</AxialForceControlOptions><ConditioningOptions type=\"NoneType\">None</ConditioningOptions><ExperimentOptions type=\"NoneType\">None</ExperimentOptions><FlowOptions type=\"NoneType\">None</FlowOptions><GapOptions type=\"NoneType\">None</GapOptions><InertiaOptions type=\"NoneType\">None</InertiaOptions><OscillationOptions type=\"NoneType\">None</OscillationOptions><TemperatureOptions type=\"NoneType\">None</TemperatureOptions><Versions><CommonIdd type=\"str\">1</CommonIdd><Cortex type=\"str\">VER 2.10.1.35</Cortex><Driver type=\"str\">5.0.0.6</Driver><Gdm type=\"str\">1.0.2.16</Gdm><GdmBootloader type=\"NoneType\">None</GdmBootloader><BlendingGdm type=\"NoneType\">None</BlendingGdm><BlendingGdmBootloader type=\"NoneType\">None</BlendingGdmBootloader><Touchscreen type=\"str\">1.0.0.14551</Touchscreen><Fep type=\"str\">1.2.1.16</Fep><FepBootloader type=\"str\">2.0.0.5</FepBootloader><FepFirmwareRevision type=\"NoneType\">None</FepFirmwareRevision><AutoSampler type=\"str\">2.1.0.18</AutoSampler><AutoSamplerBootloader type=\"str\">2.0.0.5</AutoSamplerBootloader><Fcm type=\"str\">1.0.1.24</Fcm><FcmBootloader type=\"str\">2.0.0.5</FcmBootloader><LnPump type=\"NoneType\">None</LnPump><LnPumpBootloader type=\"NoneType\">None</LnPumpBootloader><Transducer type=\"NoneType\">None</Transducer><TransducerBootloader type=\"NoneType\">None</TransducerBootloader><Pcu type=\"NoneType\">None</Pcu><PcuBootloader type=\"NoneType\">None</PcuBootloader><Firmware type=\"NoneType\">None</Firmware><FirmwareConfiguration type=\"NoneType\">None</FirmwareConfiguration><FirmwareParameter type=\"NoneType\">None</FirmwareParameter></Versions><Geometry type=\"NoneType\">None</Geometry><Calibrations><Calibration><Name type=\"str\">T1 Calibration</Name><Timestamp type=\"datetime\">2019-03-11 15:37:03.455995+00:00</Timestamp><Description typ\n"
     ]
    }
   ],
   "source": [
    "with open(\"10Cmin.xml\") as f:\n",
    "    print(f.read(10000))"
   ]
  }
 ],
 "metadata": {
  "kernelspec": {
   "display_name": "Python 3 (ipykernel)",
   "language": "python",
   "name": "python3"
  },
  "language_info": {
   "codemirror_mode": {
    "name": "ipython",
    "version": 3
   },
   "file_extension": ".py",
   "mimetype": "text/x-python",
   "name": "python",
   "nbconvert_exporter": "python",
   "pygments_lexer": "ipython3",
   "version": "3.9.18"
  }
 },
 "nbformat": 4,
 "nbformat_minor": 5
}
