{
 "cells": [
  {
   "cell_type": "markdown",
   "id": "e9978811-9931-4aed-b7aa-85d662a4b2a2",
   "metadata": {},
   "source": [
    "# Format Conversion - XML Example\n",
    "\n",
    "> [Return to Examples List](README.md)\n",
    "\n",
    "This example shows how to convert a TRIOS JSON file to XML, which is useful for applications that require XML format for data interchange or archival.\n",
    "\n",
    "## Load Experiment Data\n",
    "Here we load a JSON file representing experimental data. This step is crucial as it initializes the data structure that we will convert into XML."
   ]
  },
  {
   "cell_type": "code",
   "execution_count": 1,
   "id": "f2868540-4c9a-424b-b7b1-27747ee71f00",
   "metadata": {},
   "outputs": [],
   "source": [
    "from tadatakit.classes import Experiment\n",
    "experiment = Experiment.from_json(\"files/DSC kinetics/10Cmin.json\")"
   ]
  },
  {
   "cell_type": "markdown",
   "id": "7f5ab064-b47d-4064-a7e4-649455b51ec1",
   "metadata": {},
   "source": [
    "## Conversion to XML\n",
    "\n",
    "The following function `to_xml` converts the loaded experiment data to an XML format. The function includes utilities to sanitize XML tags and properly format nested data structures, ensuring valid and well-formed XML output. This function is then added to the Experiment class with `setattr`."
   ]
  },
  {
   "cell_type": "code",
   "execution_count": 2,
   "id": "8a0bf879-6ec5-4d2d-8d27-ee79d9e36d96",
   "metadata": {},
   "outputs": [],
   "source": [
    "import xml.etree.ElementTree as ET\n",
    "import os\n",
    "import re\n",
    "from typing import Union, TextIO\n",
    "\n",
    "def to_xml(self, path_or_file: Union[str, os.PathLike, TextIO]) -> None:\n",
    "    \"\"\"\n",
    "    Serializes the instance to an XML file or stream.\n",
    "    \"\"\"\n",
    "    def sanitize_key(key: str) -> str:\n",
    "        \"\"\"\n",
    "        Sanitizes the key to make it a valid XML tag name.\n",
    "        Replaces all characters except ASCII alphanumerics and underscores with underscores,\n",
    "        and ensures it's a valid XML name.\n",
    "        \"\"\"\n",
    "        # Replace all non-ASCII alphanumerics and non-underscore characters with underscores\n",
    "        key = re.sub(r'[^a-zA-Z0-9_]', '_', key)\n",
    "    \n",
    "        # Ensure it doesn't start with a number or punctuation (except underscore)\n",
    "        if re.match(r'^[0-9]', key):\n",
    "            key = '_' + key\n",
    "        \n",
    "        # Prevent tags from starting with 'xml' in any case\n",
    "        if key.lower().startswith('xml'):\n",
    "            key = '_' + key\n",
    "    \n",
    "        return key\n",
    "    \n",
    "    def dict_to_xml(data, root_tag='Data'):\n",
    "        def build_element(key, value):\n",
    "            key = sanitize_key(key)\n",
    "            element = ET.Element(key)\n",
    "            if isinstance(value, dict):\n",
    "                for sub_key, sub_value in value.items():\n",
    "                    element.append(build_element(sub_key, sub_value))\n",
    "            elif isinstance(value, list):\n",
    "                for item in value:\n",
    "                    item_tag = sanitize_key(key.rstrip('s'))  # Attempt to create singular form of the key\n",
    "                    if isinstance(item, dict):\n",
    "                        element.append(build_element(item_tag, item))\n",
    "                    else:\n",
    "                        sub_element = ET.Element(item_tag)\n",
    "                        sub_element.text = str(item)\n",
    "                        sub_element.set('type', type(item).__name__)\n",
    "                        element.append(sub_element)\n",
    "            else:\n",
    "                element.text = str(value)\n",
    "                element.set('type', type(value).__name__)\n",
    "            return element\n",
    "\n",
    "        root = ET.Element(sanitize_key(root_tag))\n",
    "        for key, value in data.items():\n",
    "            root.append(build_element(key, value))\n",
    "        xml_string = ET.tostring(root, encoding='unicode', method='xml')\n",
    "        return f'<?xml version=\"1.0\" encoding=\"UTF-8\"?>{xml_string}'\n",
    "\n",
    "    xml_output = dict_to_xml(experiment.to_dict())\n",
    "\n",
    "    try:\n",
    "        if isinstance(path_or_file, (str, os.PathLike)):\n",
    "            with open(path_or_file, \"w\", encoding='utf-8') as file:\n",
    "                file.write(xml_output)\n",
    "        else:\n",
    "            path_or_file.write(xml_output)\n",
    "    except OSError as e:\n",
    "        raise IOError(f\"An error occurred while writing the file: {e}\")\n",
    "\n",
    "\n",
    "\n",
    "setattr(Experiment, \"to_xml\", to_xml)"
   ]
  },
  {
   "cell_type": "markdown",
   "id": "c45e47ae-14fa-47ee-ada6-1a71282255cd",
   "metadata": {},
   "source": [
    "## Execute Conversion\n",
    "\n",
    "With the `to_xml` method now added to our `Experiment` class, we execute the method to convert our experiment data to an XML file named '10Cmin.xml'. This XML file can be used in other applications that require XML formatted data."
   ]
  },
  {
   "cell_type": "code",
   "execution_count": 3,
   "id": "cd39efb6-6f04-4304-806a-eab1956f875d",
   "metadata": {},
   "outputs": [],
   "source": [
    "experiment.to_xml(\"10Cmin.xml\")"
   ]
  },
  {
   "cell_type": "markdown",
   "id": "443ba1a4-c3ea-4849-a76c-9d9a889f19c8",
   "metadata": {},
   "source": [
    "## File Contents\n",
    "\n",
    "Rather than include the file here, you can get a preview with the first 1000 characters below."
   ]
  },
  {
   "cell_type": "code",
   "execution_count": 4,
   "id": "6e8cf5c0-83e8-468b-8acb-6305112233ed",
   "metadata": {},
   "outputs": [
    {
     "name": "stdout",
     "output_type": "stream",
     "text": [
      "<?xml version=\"1.0\" encoding=\"UTF-8\"?><Data><Schema><Url type=\"str\">https://todo</Url></Schema><Operators><Operator><Name type=\"str\">TC</Name></Operator></Operators><Sample><Name type=\"str\">10Cmin</Name><Notes type=\"NoneType\">None</Notes><PanNumber type=\"int\">20</PanNumber><PanMass><Value type=\"float\">53.180999755859375</Value><Unit><Name type=\"str\">mg</Name></Unit></PanMass><Mass><Value type=\"float\">5.508999824523926</Value><Unit><Name type=\"str\">mg</Name></Unit></Mass><PanType type=\"str\">Tzero Aluminum Pin Hole Hermetic</PanType><Shape type=\"NoneType\">None</Shape><Density type=\"NoneType\">None</Density><PoissonsRatio type=\"NoneType\">None</PoissonsRatio></Sample><Procedure><Configuration><InstrumentConfigurations><InstrumentConfiguration><Type type=\"str\">DSC2500</Type><Name type=\"str\">DSC2A-00717</Name><SerialNumber type=\"str\">DSC2A-00717</SerialNumber><Location type=\"str\">Training Lab</Location><ReferencePanNumber type=\"int\">54</ReferencePanNumber><ReferencePanMass><Value type=\"float\"\n"
     ]
    }
   ],
   "source": [
    "with open(\"10Cmin.xml\") as f:\n",
    "    print(f.read(1000))"
   ]
  }
 ],
 "metadata": {
  "kernelspec": {
   "display_name": "Python 3 (ipykernel)",
   "language": "python",
   "name": "python3"
  },
  "language_info": {
   "codemirror_mode": {
    "name": "ipython",
    "version": 3
   },
   "file_extension": ".py",
   "mimetype": "text/x-python",
   "name": "python",
   "nbconvert_exporter": "python",
   "pygments_lexer": "ipython3",
   "version": "3.9.18"
  }
 },
 "nbformat": 4,
 "nbformat_minor": 5
}
